{
 "cells": [
  {
   "cell_type": "code",
   "execution_count": 1,
   "id": "887ec818",
   "metadata": {
    "_cell_guid": "b1076dfc-b9ad-4769-8c92-a6c4dae69d19",
    "_uuid": "8f2839f25d086af736a60e9eeb907d3b93b6e0e5",
    "execution": {
     "iopub.execute_input": "2021-11-15T06:39:19.976670Z",
     "iopub.status.busy": "2021-11-15T06:39:19.975719Z",
     "iopub.status.idle": "2021-11-15T06:39:19.998722Z",
     "shell.execute_reply": "2021-11-15T06:39:19.999628Z",
     "shell.execute_reply.started": "2021-11-15T06:36:12.242397Z"
    },
    "papermill": {
     "duration": 0.072237,
     "end_time": "2021-11-15T06:39:19.999965",
     "exception": false,
     "start_time": "2021-11-15T06:39:19.927728",
     "status": "completed"
    },
    "tags": []
   },
   "outputs": [
    {
     "name": "stdout",
     "output_type": "stream",
     "text": [
      "/kaggle/input/top-video-games-19952021-metacritic/all_games.csv\n"
     ]
    }
   ],
   "source": [
    "# This Python 3 environment comes with many helpful analytics libraries installed\n",
    "# It is defined by the kaggle/python Docker image: https://github.com/kaggle/docker-python\n",
    "# For example, here's several helpful packages to load\n",
    "\n",
    "import numpy as np # linear algebra\n",
    "import pandas as pd # data processing, CSV file I/O (e.g. pd.read_csv)\n",
    "\n",
    "# Input data files are available in the read-only \"../input/\" directory\n",
    "# For example, running this (by clicking run or pressing Shift+Enter) will list all files under the input directory\n",
    "\n",
    "import os\n",
    "for dirname, _, filenames in os.walk('/kaggle/input'):\n",
    "    for filename in filenames:\n",
    "        print(os.path.join(dirname, filename))\n",
    "\n",
    "# You can write up to 20GB to the current directory (/kaggle/working/) that gets preserved as output when you create a version using \"Save & Run All\" \n",
    "# You can also write temporary files to /kaggle/temp/, but they won't be saved outside of the current session"
   ]
  },
  {
   "cell_type": "markdown",
   "id": "7cf8274e",
   "metadata": {
    "papermill": {
     "duration": 0.027141,
     "end_time": "2021-11-15T06:39:20.061826",
     "exception": false,
     "start_time": "2021-11-15T06:39:20.034685",
     "status": "completed"
    },
    "tags": []
   },
   "source": [
    "# Importing Dependencies"
   ]
  },
  {
   "cell_type": "code",
   "execution_count": 2,
   "id": "6eff7ef7",
   "metadata": {
    "execution": {
     "iopub.execute_input": "2021-11-15T06:39:20.121807Z",
     "iopub.status.busy": "2021-11-15T06:39:20.121123Z",
     "iopub.status.idle": "2021-11-15T06:39:21.031546Z",
     "shell.execute_reply": "2021-11-15T06:39:21.030940Z",
     "shell.execute_reply.started": "2021-11-15T06:36:12.254889Z"
    },
    "papermill": {
     "duration": 0.942458,
     "end_time": "2021-11-15T06:39:21.031691",
     "exception": false,
     "start_time": "2021-11-15T06:39:20.089233",
     "status": "completed"
    },
    "tags": []
   },
   "outputs": [],
   "source": [
    "import numpy as np \n",
    "import pandas as pd\n",
    "import matplotlib.pyplot as plt\n",
    "import seaborn as sns\n",
    "import datetime"
   ]
  },
  {
   "cell_type": "markdown",
   "id": "ed1d97f5",
   "metadata": {
    "papermill": {
     "duration": 0.027171,
     "end_time": "2021-11-15T06:39:21.086335",
     "exception": false,
     "start_time": "2021-11-15T06:39:21.059164",
     "status": "completed"
    },
    "tags": []
   },
   "source": [
    "# Load Dataset"
   ]
  },
  {
   "cell_type": "code",
   "execution_count": 3,
   "id": "beb93cf6",
   "metadata": {
    "execution": {
     "iopub.execute_input": "2021-11-15T06:39:21.146201Z",
     "iopub.status.busy": "2021-11-15T06:39:21.145481Z",
     "iopub.status.idle": "2021-11-15T06:39:21.531754Z",
     "shell.execute_reply": "2021-11-15T06:39:21.532302Z",
     "shell.execute_reply.started": "2021-11-15T06:36:12.268935Z"
    },
    "papermill": {
     "duration": 0.418778,
     "end_time": "2021-11-15T06:39:21.532501",
     "exception": false,
     "start_time": "2021-11-15T06:39:21.113723",
     "status": "completed"
    },
    "tags": []
   },
   "outputs": [],
   "source": [
    "df = pd.read_csv('/kaggle/input/top-video-games-19952021-metacritic/all_games.csv')"
   ]
  },
  {
   "cell_type": "markdown",
   "id": "0628aa28",
   "metadata": {
    "papermill": {
     "duration": 0.027121,
     "end_time": "2021-11-15T06:39:21.587943",
     "exception": false,
     "start_time": "2021-11-15T06:39:21.560822",
     "status": "completed"
    },
    "tags": []
   },
   "source": [
    "# Exploring Data"
   ]
  },
  {
   "cell_type": "code",
   "execution_count": 4,
   "id": "80a47726",
   "metadata": {
    "execution": {
     "iopub.execute_input": "2021-11-15T06:39:21.646461Z",
     "iopub.status.busy": "2021-11-15T06:39:21.645489Z",
     "iopub.status.idle": "2021-11-15T06:39:21.665131Z",
     "shell.execute_reply": "2021-11-15T06:39:21.665624Z",
     "shell.execute_reply.started": "2021-11-15T06:36:12.455442Z"
    },
    "papermill": {
     "duration": 0.050542,
     "end_time": "2021-11-15T06:39:21.665786",
     "exception": false,
     "start_time": "2021-11-15T06:39:21.615244",
     "status": "completed"
    },
    "tags": []
   },
   "outputs": [
    {
     "data": {
      "text/html": [
       "<div>\n",
       "<style scoped>\n",
       "    .dataframe tbody tr th:only-of-type {\n",
       "        vertical-align: middle;\n",
       "    }\n",
       "\n",
       "    .dataframe tbody tr th {\n",
       "        vertical-align: top;\n",
       "    }\n",
       "\n",
       "    .dataframe thead th {\n",
       "        text-align: right;\n",
       "    }\n",
       "</style>\n",
       "<table border=\"1\" class=\"dataframe\">\n",
       "  <thead>\n",
       "    <tr style=\"text-align: right;\">\n",
       "      <th></th>\n",
       "      <th>name</th>\n",
       "      <th>platform</th>\n",
       "      <th>release_date</th>\n",
       "      <th>summary</th>\n",
       "      <th>meta_score</th>\n",
       "      <th>user_review</th>\n",
       "    </tr>\n",
       "  </thead>\n",
       "  <tbody>\n",
       "    <tr>\n",
       "      <th>0</th>\n",
       "      <td>The Legend of Zelda: Ocarina of Time</td>\n",
       "      <td>Nintendo 64</td>\n",
       "      <td>November 23, 1998</td>\n",
       "      <td>As a young boy, Link is tricked by Ganondorf, ...</td>\n",
       "      <td>99</td>\n",
       "      <td>9.1</td>\n",
       "    </tr>\n",
       "    <tr>\n",
       "      <th>1</th>\n",
       "      <td>Tony Hawk's Pro Skater 2</td>\n",
       "      <td>PlayStation</td>\n",
       "      <td>September 20, 2000</td>\n",
       "      <td>As most major publishers' development efforts ...</td>\n",
       "      <td>98</td>\n",
       "      <td>7.4</td>\n",
       "    </tr>\n",
       "    <tr>\n",
       "      <th>2</th>\n",
       "      <td>Grand Theft Auto IV</td>\n",
       "      <td>PlayStation 3</td>\n",
       "      <td>April 29, 2008</td>\n",
       "      <td>[Metacritic's 2008 PS3 Game of the Year; Also ...</td>\n",
       "      <td>98</td>\n",
       "      <td>7.7</td>\n",
       "    </tr>\n",
       "    <tr>\n",
       "      <th>3</th>\n",
       "      <td>SoulCalibur</td>\n",
       "      <td>Dreamcast</td>\n",
       "      <td>September 8, 1999</td>\n",
       "      <td>This is a tale of souls and swords, transcendi...</td>\n",
       "      <td>98</td>\n",
       "      <td>8.4</td>\n",
       "    </tr>\n",
       "    <tr>\n",
       "      <th>4</th>\n",
       "      <td>Grand Theft Auto IV</td>\n",
       "      <td>Xbox 360</td>\n",
       "      <td>April 29, 2008</td>\n",
       "      <td>[Metacritic's 2008 Xbox 360 Game of the Year; ...</td>\n",
       "      <td>98</td>\n",
       "      <td>7.9</td>\n",
       "    </tr>\n",
       "  </tbody>\n",
       "</table>\n",
       "</div>"
      ],
      "text/plain": [
       "                                   name        platform        release_date  \\\n",
       "0  The Legend of Zelda: Ocarina of Time     Nintendo 64   November 23, 1998   \n",
       "1              Tony Hawk's Pro Skater 2     PlayStation  September 20, 2000   \n",
       "2                   Grand Theft Auto IV   PlayStation 3      April 29, 2008   \n",
       "3                           SoulCalibur       Dreamcast   September 8, 1999   \n",
       "4                   Grand Theft Auto IV        Xbox 360      April 29, 2008   \n",
       "\n",
       "                                             summary  meta_score user_review  \n",
       "0  As a young boy, Link is tricked by Ganondorf, ...          99         9.1  \n",
       "1  As most major publishers' development efforts ...          98         7.4  \n",
       "2  [Metacritic's 2008 PS3 Game of the Year; Also ...          98         7.7  \n",
       "3  This is a tale of souls and swords, transcendi...          98         8.4  \n",
       "4  [Metacritic's 2008 Xbox 360 Game of the Year; ...          98         7.9  "
      ]
     },
     "execution_count": 4,
     "metadata": {},
     "output_type": "execute_result"
    }
   ],
   "source": [
    "df.head()"
   ]
  },
  {
   "cell_type": "code",
   "execution_count": 5,
   "id": "bf70ed8f",
   "metadata": {
    "execution": {
     "iopub.execute_input": "2021-11-15T06:39:21.737689Z",
     "iopub.status.busy": "2021-11-15T06:39:21.736980Z",
     "iopub.status.idle": "2021-11-15T06:39:21.743091Z",
     "shell.execute_reply": "2021-11-15T06:39:21.743556Z",
     "shell.execute_reply.started": "2021-11-15T06:36:12.470471Z"
    },
    "papermill": {
     "duration": 0.050416,
     "end_time": "2021-11-15T06:39:21.743730",
     "exception": false,
     "start_time": "2021-11-15T06:39:21.693314",
     "status": "completed"
    },
    "tags": []
   },
   "outputs": [
    {
     "data": {
      "text/plain": [
       "name              0\n",
       "platform          0\n",
       "release_date      0\n",
       "summary         114\n",
       "meta_score        0\n",
       "user_review       0\n",
       "dtype: int64"
      ]
     },
     "execution_count": 5,
     "metadata": {},
     "output_type": "execute_result"
    }
   ],
   "source": [
    "df.isnull().sum()"
   ]
  },
  {
   "cell_type": "code",
   "execution_count": 6,
   "id": "b4ff7dc6",
   "metadata": {
    "execution": {
     "iopub.execute_input": "2021-11-15T06:39:21.803353Z",
     "iopub.status.busy": "2021-11-15T06:39:21.802379Z",
     "iopub.status.idle": "2021-11-15T06:39:21.807394Z",
     "shell.execute_reply": "2021-11-15T06:39:21.807895Z",
     "shell.execute_reply.started": "2021-11-15T06:36:12.499946Z"
    },
    "papermill": {
     "duration": 0.036312,
     "end_time": "2021-11-15T06:39:21.808055",
     "exception": false,
     "start_time": "2021-11-15T06:39:21.771743",
     "status": "completed"
    },
    "tags": []
   },
   "outputs": [
    {
     "data": {
      "text/plain": [
       "(18800, 6)"
      ]
     },
     "execution_count": 6,
     "metadata": {},
     "output_type": "execute_result"
    }
   ],
   "source": [
    "df.shape"
   ]
  },
  {
   "cell_type": "code",
   "execution_count": 7,
   "id": "01fb5609",
   "metadata": {
    "execution": {
     "iopub.execute_input": "2021-11-15T06:39:21.867889Z",
     "iopub.status.busy": "2021-11-15T06:39:21.866937Z",
     "iopub.status.idle": "2021-11-15T06:39:21.878774Z",
     "shell.execute_reply": "2021-11-15T06:39:21.878121Z",
     "shell.execute_reply.started": "2021-11-15T06:36:12.509261Z"
    },
    "papermill": {
     "duration": 0.042835,
     "end_time": "2021-11-15T06:39:21.878946",
     "exception": false,
     "start_time": "2021-11-15T06:39:21.836111",
     "status": "completed"
    },
    "tags": []
   },
   "outputs": [],
   "source": [
    "df['summary'].fillna('Missing', inplace=True)"
   ]
  },
  {
   "cell_type": "code",
   "execution_count": 8,
   "id": "44e7c9e7",
   "metadata": {
    "execution": {
     "iopub.execute_input": "2021-11-15T06:39:21.952633Z",
     "iopub.status.busy": "2021-11-15T06:39:21.951625Z",
     "iopub.status.idle": "2021-11-15T06:39:21.957951Z",
     "shell.execute_reply": "2021-11-15T06:39:21.958410Z",
     "shell.execute_reply.started": "2021-11-15T06:36:12.526333Z"
    },
    "papermill": {
     "duration": 0.051152,
     "end_time": "2021-11-15T06:39:21.958582",
     "exception": false,
     "start_time": "2021-11-15T06:39:21.907430",
     "status": "completed"
    },
    "tags": []
   },
   "outputs": [
    {
     "data": {
      "text/plain": [
       "name            0\n",
       "platform        0\n",
       "release_date    0\n",
       "summary         0\n",
       "meta_score      0\n",
       "user_review     0\n",
       "dtype: int64"
      ]
     },
     "execution_count": 8,
     "metadata": {},
     "output_type": "execute_result"
    }
   ],
   "source": [
    "df.isnull().sum()"
   ]
  },
  {
   "cell_type": "code",
   "execution_count": 9,
   "id": "03de992f",
   "metadata": {
    "execution": {
     "iopub.execute_input": "2021-11-15T06:39:22.027747Z",
     "iopub.status.busy": "2021-11-15T06:39:22.027101Z",
     "iopub.status.idle": "2021-11-15T06:39:22.029667Z",
     "shell.execute_reply": "2021-11-15T06:39:22.030218Z",
     "shell.execute_reply.started": "2021-11-15T06:36:12.55194Z"
    },
    "papermill": {
     "duration": 0.043366,
     "end_time": "2021-11-15T06:39:22.030389",
     "exception": false,
     "start_time": "2021-11-15T06:39:21.987023",
     "status": "completed"
    },
    "tags": []
   },
   "outputs": [
    {
     "data": {
      "text/html": [
       "<div>\n",
       "<style scoped>\n",
       "    .dataframe tbody tr th:only-of-type {\n",
       "        vertical-align: middle;\n",
       "    }\n",
       "\n",
       "    .dataframe tbody tr th {\n",
       "        vertical-align: top;\n",
       "    }\n",
       "\n",
       "    .dataframe thead th {\n",
       "        text-align: right;\n",
       "    }\n",
       "</style>\n",
       "<table border=\"1\" class=\"dataframe\">\n",
       "  <thead>\n",
       "    <tr style=\"text-align: right;\">\n",
       "      <th></th>\n",
       "      <th>name</th>\n",
       "      <th>platform</th>\n",
       "      <th>release_date</th>\n",
       "      <th>summary</th>\n",
       "      <th>meta_score</th>\n",
       "      <th>user_review</th>\n",
       "    </tr>\n",
       "  </thead>\n",
       "  <tbody>\n",
       "    <tr>\n",
       "      <th>0</th>\n",
       "      <td>The Legend of Zelda: Ocarina of Time</td>\n",
       "      <td>Nintendo 64</td>\n",
       "      <td>November 23, 1998</td>\n",
       "      <td>As a young boy, Link is tricked by Ganondorf, ...</td>\n",
       "      <td>99</td>\n",
       "      <td>9.1</td>\n",
       "    </tr>\n",
       "    <tr>\n",
       "      <th>1</th>\n",
       "      <td>Tony Hawk's Pro Skater 2</td>\n",
       "      <td>PlayStation</td>\n",
       "      <td>September 20, 2000</td>\n",
       "      <td>As most major publishers' development efforts ...</td>\n",
       "      <td>98</td>\n",
       "      <td>7.4</td>\n",
       "    </tr>\n",
       "    <tr>\n",
       "      <th>2</th>\n",
       "      <td>Grand Theft Auto IV</td>\n",
       "      <td>PlayStation 3</td>\n",
       "      <td>April 29, 2008</td>\n",
       "      <td>[Metacritic's 2008 PS3 Game of the Year; Also ...</td>\n",
       "      <td>98</td>\n",
       "      <td>7.7</td>\n",
       "    </tr>\n",
       "    <tr>\n",
       "      <th>3</th>\n",
       "      <td>SoulCalibur</td>\n",
       "      <td>Dreamcast</td>\n",
       "      <td>September 8, 1999</td>\n",
       "      <td>This is a tale of souls and swords, transcendi...</td>\n",
       "      <td>98</td>\n",
       "      <td>8.4</td>\n",
       "    </tr>\n",
       "    <tr>\n",
       "      <th>4</th>\n",
       "      <td>Grand Theft Auto IV</td>\n",
       "      <td>Xbox 360</td>\n",
       "      <td>April 29, 2008</td>\n",
       "      <td>[Metacritic's 2008 Xbox 360 Game of the Year; ...</td>\n",
       "      <td>98</td>\n",
       "      <td>7.9</td>\n",
       "    </tr>\n",
       "  </tbody>\n",
       "</table>\n",
       "</div>"
      ],
      "text/plain": [
       "                                   name        platform        release_date  \\\n",
       "0  The Legend of Zelda: Ocarina of Time     Nintendo 64   November 23, 1998   \n",
       "1              Tony Hawk's Pro Skater 2     PlayStation  September 20, 2000   \n",
       "2                   Grand Theft Auto IV   PlayStation 3      April 29, 2008   \n",
       "3                           SoulCalibur       Dreamcast   September 8, 1999   \n",
       "4                   Grand Theft Auto IV        Xbox 360      April 29, 2008   \n",
       "\n",
       "                                             summary  meta_score user_review  \n",
       "0  As a young boy, Link is tricked by Ganondorf, ...          99         9.1  \n",
       "1  As most major publishers' development efforts ...          98         7.4  \n",
       "2  [Metacritic's 2008 PS3 Game of the Year; Also ...          98         7.7  \n",
       "3  This is a tale of souls and swords, transcendi...          98         8.4  \n",
       "4  [Metacritic's 2008 Xbox 360 Game of the Year; ...          98         7.9  "
      ]
     },
     "execution_count": 9,
     "metadata": {},
     "output_type": "execute_result"
    }
   ],
   "source": [
    "df.head()"
   ]
  },
  {
   "cell_type": "code",
   "execution_count": 10,
   "id": "36880abb",
   "metadata": {
    "execution": {
     "iopub.execute_input": "2021-11-15T06:39:22.092444Z",
     "iopub.status.busy": "2021-11-15T06:39:22.091477Z",
     "iopub.status.idle": "2021-11-15T06:39:22.104652Z",
     "shell.execute_reply": "2021-11-15T06:39:22.104123Z",
     "shell.execute_reply.started": "2021-11-15T06:36:12.571673Z"
    },
    "papermill": {
     "duration": 0.045321,
     "end_time": "2021-11-15T06:39:22.104790",
     "exception": false,
     "start_time": "2021-11-15T06:39:22.059469",
     "status": "completed"
    },
    "tags": []
   },
   "outputs": [
    {
     "data": {
      "text/plain": [
       " PC                  4864\n",
       " PlayStation 4       2056\n",
       " Xbox 360            1644\n",
       " PlayStation 2       1414\n",
       " Switch              1399\n",
       " PlayStation 3       1256\n",
       " Xbox One            1179\n",
       " Xbox                 789\n",
       " DS                   720\n",
       " Wii                  655\n",
       " PSP                  512\n",
       " GameCube             448\n",
       " Game Boy Advance     438\n",
       " 3DS                  396\n",
       " PlayStation Vita     257\n",
       " PlayStation          187\n",
       " Wii U                184\n",
       " Dreamcast            125\n",
       " PlayStation 5        124\n",
       " Xbox Series X         77\n",
       " Nintendo 64           71\n",
       " Stadia                 5\n",
       "Name: platform, dtype: int64"
      ]
     },
     "execution_count": 10,
     "metadata": {},
     "output_type": "execute_result"
    }
   ],
   "source": [
    "df['platform'].value_counts()"
   ]
  },
  {
   "cell_type": "markdown",
   "id": "0b4b718f",
   "metadata": {
    "papermill": {
     "duration": 0.029194,
     "end_time": "2021-11-15T06:39:22.163752",
     "exception": false,
     "start_time": "2021-11-15T06:39:22.134558",
     "status": "completed"
    },
    "tags": []
   },
   "source": [
    "# Data Cleaning"
   ]
  },
  {
   "cell_type": "code",
   "execution_count": 11,
   "id": "bbc8fdfb",
   "metadata": {
    "execution": {
     "iopub.execute_input": "2021-11-15T06:39:22.246142Z",
     "iopub.status.busy": "2021-11-15T06:39:22.245272Z",
     "iopub.status.idle": "2021-11-15T06:39:22.248759Z",
     "shell.execute_reply": "2021-11-15T06:39:22.249292Z",
     "shell.execute_reply.started": "2021-11-15T06:36:12.586407Z"
    },
    "papermill": {
     "duration": 0.05635,
     "end_time": "2021-11-15T06:39:22.249464",
     "exception": false,
     "start_time": "2021-11-15T06:39:22.193114",
     "status": "completed"
    },
    "tags": []
   },
   "outputs": [
    {
     "data": {
      "text/html": [
       "<div>\n",
       "<style scoped>\n",
       "    .dataframe tbody tr th:only-of-type {\n",
       "        vertical-align: middle;\n",
       "    }\n",
       "\n",
       "    .dataframe tbody tr th {\n",
       "        vertical-align: top;\n",
       "    }\n",
       "\n",
       "    .dataframe thead th {\n",
       "        text-align: right;\n",
       "    }\n",
       "</style>\n",
       "<table border=\"1\" class=\"dataframe\">\n",
       "  <thead>\n",
       "    <tr style=\"text-align: right;\">\n",
       "      <th></th>\n",
       "      <th>name</th>\n",
       "      <th>platform</th>\n",
       "      <th>release_date</th>\n",
       "      <th>summary</th>\n",
       "      <th>meta_score</th>\n",
       "      <th>user_review</th>\n",
       "    </tr>\n",
       "  </thead>\n",
       "  <tbody>\n",
       "    <tr>\n",
       "      <th>679</th>\n",
       "      <td>Synth Riders</td>\n",
       "      <td>PlayStation 4</td>\n",
       "      <td>August 10, 2021</td>\n",
       "      <td>Synth Riders is your freestyle dancing VR rhyt...</td>\n",
       "      <td>89</td>\n",
       "      <td>tbd</td>\n",
       "    </tr>\n",
       "    <tr>\n",
       "      <th>963</th>\n",
       "      <td>Tiger Woods PGA Tour 2005</td>\n",
       "      <td>GameCube</td>\n",
       "      <td>September 20, 2004</td>\n",
       "      <td>Challenge professional golfer Tiger Woods to c...</td>\n",
       "      <td>88</td>\n",
       "      <td>tbd</td>\n",
       "    </tr>\n",
       "    <tr>\n",
       "      <th>1277</th>\n",
       "      <td>NASCAR 2005: Chase for the Cup</td>\n",
       "      <td>Xbox</td>\n",
       "      <td>August 31, 2004</td>\n",
       "      <td>Do you have what it takes to be a top NASCAR d...</td>\n",
       "      <td>86</td>\n",
       "      <td>tbd</td>\n",
       "    </tr>\n",
       "    <tr>\n",
       "      <th>1472</th>\n",
       "      <td>Moto Racer Advance</td>\n",
       "      <td>Game Boy Advance</td>\n",
       "      <td>December 5, 2002</td>\n",
       "      <td>Missing</td>\n",
       "      <td>86</td>\n",
       "      <td>tbd</td>\n",
       "    </tr>\n",
       "    <tr>\n",
       "      <th>2098</th>\n",
       "      <td>Mushihimesama</td>\n",
       "      <td>Switch</td>\n",
       "      <td>June 15, 2021</td>\n",
       "      <td>Mushihimesama (Bug Princess in English) is a v...</td>\n",
       "      <td>84</td>\n",
       "      <td>tbd</td>\n",
       "    </tr>\n",
       "    <tr>\n",
       "      <th>...</th>\n",
       "      <td>...</td>\n",
       "      <td>...</td>\n",
       "      <td>...</td>\n",
       "      <td>...</td>\n",
       "      <td>...</td>\n",
       "      <td>...</td>\n",
       "    </tr>\n",
       "    <tr>\n",
       "      <th>18594</th>\n",
       "      <td>Air Conflicts: Aces of World War II</td>\n",
       "      <td>PSP</td>\n",
       "      <td>April 14, 2009</td>\n",
       "      <td>Air Conflicts is an arcade flight simulator ga...</td>\n",
       "      <td>36</td>\n",
       "      <td>tbd</td>\n",
       "    </tr>\n",
       "    <tr>\n",
       "      <th>18639</th>\n",
       "      <td>King of Clubs</td>\n",
       "      <td>Wii</td>\n",
       "      <td>August 4, 2008</td>\n",
       "      <td>Never the same game twice, this absorbing and ...</td>\n",
       "      <td>35</td>\n",
       "      <td>tbd</td>\n",
       "    </tr>\n",
       "    <tr>\n",
       "      <th>18700</th>\n",
       "      <td>Jenga World Tour</td>\n",
       "      <td>DS</td>\n",
       "      <td>November 13, 2007</td>\n",
       "      <td>Jenga is based on the world famous wooden bloc...</td>\n",
       "      <td>32</td>\n",
       "      <td>tbd</td>\n",
       "    </tr>\n",
       "    <tr>\n",
       "      <th>18715</th>\n",
       "      <td>Dream Chronicles</td>\n",
       "      <td>PlayStation 3</td>\n",
       "      <td>November 23, 2010</td>\n",
       "      <td>Unlock the secrets of the beautiful and myster...</td>\n",
       "      <td>31</td>\n",
       "      <td>tbd</td>\n",
       "    </tr>\n",
       "    <tr>\n",
       "      <th>18717</th>\n",
       "      <td>Smash 'N' Survive</td>\n",
       "      <td>PlayStation 3</td>\n",
       "      <td>February 22, 2012</td>\n",
       "      <td>Missing</td>\n",
       "      <td>31</td>\n",
       "      <td>tbd</td>\n",
       "    </tr>\n",
       "  </tbody>\n",
       "</table>\n",
       "<p>1365 rows × 6 columns</p>\n",
       "</div>"
      ],
      "text/plain": [
       "                                      name           platform  \\\n",
       "679                           Synth Riders      PlayStation 4   \n",
       "963              Tiger Woods PGA Tour 2005           GameCube   \n",
       "1277        NASCAR 2005: Chase for the Cup               Xbox   \n",
       "1472                    Moto Racer Advance   Game Boy Advance   \n",
       "2098                         Mushihimesama             Switch   \n",
       "...                                    ...                ...   \n",
       "18594  Air Conflicts: Aces of World War II                PSP   \n",
       "18639                        King of Clubs                Wii   \n",
       "18700                     Jenga World Tour                 DS   \n",
       "18715                     Dream Chronicles      PlayStation 3   \n",
       "18717                    Smash 'N' Survive      PlayStation 3   \n",
       "\n",
       "             release_date                                            summary  \\\n",
       "679       August 10, 2021  Synth Riders is your freestyle dancing VR rhyt...   \n",
       "963    September 20, 2004  Challenge professional golfer Tiger Woods to c...   \n",
       "1277      August 31, 2004  Do you have what it takes to be a top NASCAR d...   \n",
       "1472     December 5, 2002                                            Missing   \n",
       "2098        June 15, 2021  Mushihimesama (Bug Princess in English) is a v...   \n",
       "...                   ...                                                ...   \n",
       "18594      April 14, 2009  Air Conflicts is an arcade flight simulator ga...   \n",
       "18639      August 4, 2008  Never the same game twice, this absorbing and ...   \n",
       "18700   November 13, 2007  Jenga is based on the world famous wooden bloc...   \n",
       "18715   November 23, 2010  Unlock the secrets of the beautiful and myster...   \n",
       "18717   February 22, 2012                                            Missing   \n",
       "\n",
       "       meta_score user_review  \n",
       "679            89         tbd  \n",
       "963            88         tbd  \n",
       "1277           86         tbd  \n",
       "1472           86         tbd  \n",
       "2098           84         tbd  \n",
       "...           ...         ...  \n",
       "18594          36         tbd  \n",
       "18639          35         tbd  \n",
       "18700          32         tbd  \n",
       "18715          31         tbd  \n",
       "18717          31         tbd  \n",
       "\n",
       "[1365 rows x 6 columns]"
      ]
     },
     "execution_count": 11,
     "metadata": {},
     "output_type": "execute_result"
    }
   ],
   "source": [
    "df[df['user_review']=='tbd']"
   ]
  },
  {
   "cell_type": "code",
   "execution_count": 12,
   "id": "bbc41861",
   "metadata": {
    "execution": {
     "iopub.execute_input": "2021-11-15T06:39:22.318700Z",
     "iopub.status.busy": "2021-11-15T06:39:22.318029Z",
     "iopub.status.idle": "2021-11-15T06:39:22.325481Z",
     "shell.execute_reply": "2021-11-15T06:39:22.324907Z",
     "shell.execute_reply.started": "2021-11-15T06:36:12.617364Z"
    },
    "papermill": {
     "duration": 0.045225,
     "end_time": "2021-11-15T06:39:22.325630",
     "exception": false,
     "start_time": "2021-11-15T06:39:22.280405",
     "status": "completed"
    },
    "tags": []
   },
   "outputs": [],
   "source": [
    "df = df.drop(df[df['user_review'] == 'tbd'].index)"
   ]
  },
  {
   "cell_type": "code",
   "execution_count": 13,
   "id": "3794a2e9",
   "metadata": {
    "execution": {
     "iopub.execute_input": "2021-11-15T06:39:22.390742Z",
     "iopub.status.busy": "2021-11-15T06:39:22.390072Z",
     "iopub.status.idle": "2021-11-15T06:39:22.405376Z",
     "shell.execute_reply": "2021-11-15T06:39:22.405829Z",
     "shell.execute_reply.started": "2021-11-15T06:36:12.633411Z"
    },
    "papermill": {
     "duration": 0.049702,
     "end_time": "2021-11-15T06:39:22.406016",
     "exception": false,
     "start_time": "2021-11-15T06:39:22.356314",
     "status": "completed"
    },
    "tags": []
   },
   "outputs": [
    {
     "data": {
      "text/html": [
       "<div>\n",
       "<style scoped>\n",
       "    .dataframe tbody tr th:only-of-type {\n",
       "        vertical-align: middle;\n",
       "    }\n",
       "\n",
       "    .dataframe tbody tr th {\n",
       "        vertical-align: top;\n",
       "    }\n",
       "\n",
       "    .dataframe thead th {\n",
       "        text-align: right;\n",
       "    }\n",
       "</style>\n",
       "<table border=\"1\" class=\"dataframe\">\n",
       "  <thead>\n",
       "    <tr style=\"text-align: right;\">\n",
       "      <th></th>\n",
       "      <th>Platform</th>\n",
       "      <th>Count</th>\n",
       "    </tr>\n",
       "  </thead>\n",
       "  <tbody>\n",
       "    <tr>\n",
       "      <th>0</th>\n",
       "      <td>PC</td>\n",
       "      <td>4660</td>\n",
       "    </tr>\n",
       "    <tr>\n",
       "      <th>1</th>\n",
       "      <td>PlayStation 4</td>\n",
       "      <td>1950</td>\n",
       "    </tr>\n",
       "    <tr>\n",
       "      <th>2</th>\n",
       "      <td>Xbox 360</td>\n",
       "      <td>1547</td>\n",
       "    </tr>\n",
       "    <tr>\n",
       "      <th>3</th>\n",
       "      <td>PlayStation 2</td>\n",
       "      <td>1311</td>\n",
       "    </tr>\n",
       "    <tr>\n",
       "      <th>4</th>\n",
       "      <td>Switch</td>\n",
       "      <td>1216</td>\n",
       "    </tr>\n",
       "    <tr>\n",
       "      <th>5</th>\n",
       "      <td>PlayStation 3</td>\n",
       "      <td>1208</td>\n",
       "    </tr>\n",
       "    <tr>\n",
       "      <th>6</th>\n",
       "      <td>Xbox One</td>\n",
       "      <td>1089</td>\n",
       "    </tr>\n",
       "    <tr>\n",
       "      <th>7</th>\n",
       "      <td>Xbox</td>\n",
       "      <td>686</td>\n",
       "    </tr>\n",
       "    <tr>\n",
       "      <th>8</th>\n",
       "      <td>DS</td>\n",
       "      <td>599</td>\n",
       "    </tr>\n",
       "    <tr>\n",
       "      <th>9</th>\n",
       "      <td>Wii</td>\n",
       "      <td>597</td>\n",
       "    </tr>\n",
       "    <tr>\n",
       "      <th>10</th>\n",
       "      <td>PSP</td>\n",
       "      <td>464</td>\n",
       "    </tr>\n",
       "    <tr>\n",
       "      <th>11</th>\n",
       "      <td>GameCube</td>\n",
       "      <td>413</td>\n",
       "    </tr>\n",
       "    <tr>\n",
       "      <th>12</th>\n",
       "      <td>3DS</td>\n",
       "      <td>378</td>\n",
       "    </tr>\n",
       "    <tr>\n",
       "      <th>13</th>\n",
       "      <td>Game Boy Advance</td>\n",
       "      <td>349</td>\n",
       "    </tr>\n",
       "    <tr>\n",
       "      <th>14</th>\n",
       "      <td>PlayStation Vita</td>\n",
       "      <td>251</td>\n",
       "    </tr>\n",
       "    <tr>\n",
       "      <th>15</th>\n",
       "      <td>Wii U</td>\n",
       "      <td>181</td>\n",
       "    </tr>\n",
       "    <tr>\n",
       "      <th>16</th>\n",
       "      <td>PlayStation</td>\n",
       "      <td>166</td>\n",
       "    </tr>\n",
       "    <tr>\n",
       "      <th>17</th>\n",
       "      <td>Dreamcast</td>\n",
       "      <td>119</td>\n",
       "    </tr>\n",
       "    <tr>\n",
       "      <th>18</th>\n",
       "      <td>PlayStation 5</td>\n",
       "      <td>110</td>\n",
       "    </tr>\n",
       "    <tr>\n",
       "      <th>19</th>\n",
       "      <td>Nintendo 64</td>\n",
       "      <td>71</td>\n",
       "    </tr>\n",
       "    <tr>\n",
       "      <th>20</th>\n",
       "      <td>Xbox Series X</td>\n",
       "      <td>65</td>\n",
       "    </tr>\n",
       "    <tr>\n",
       "      <th>21</th>\n",
       "      <td>Stadia</td>\n",
       "      <td>5</td>\n",
       "    </tr>\n",
       "  </tbody>\n",
       "</table>\n",
       "</div>"
      ],
      "text/plain": [
       "             Platform  Count\n",
       "0                  PC   4660\n",
       "1       PlayStation 4   1950\n",
       "2            Xbox 360   1547\n",
       "3       PlayStation 2   1311\n",
       "4              Switch   1216\n",
       "5       PlayStation 3   1208\n",
       "6            Xbox One   1089\n",
       "7                Xbox    686\n",
       "8                  DS    599\n",
       "9                 Wii    597\n",
       "10                PSP    464\n",
       "11           GameCube    413\n",
       "12                3DS    378\n",
       "13   Game Boy Advance    349\n",
       "14   PlayStation Vita    251\n",
       "15              Wii U    181\n",
       "16        PlayStation    166\n",
       "17          Dreamcast    119\n",
       "18      PlayStation 5    110\n",
       "19        Nintendo 64     71\n",
       "20      Xbox Series X     65\n",
       "21             Stadia      5"
      ]
     },
     "execution_count": 13,
     "metadata": {},
     "output_type": "execute_result"
    }
   ],
   "source": [
    "count_platform = df[\"platform\"].value_counts().reset_index()\n",
    "count_platform.columns = [\"Platform\", \"Count\"]\n",
    "count_platform"
   ]
  },
  {
   "cell_type": "markdown",
   "id": "7411c757",
   "metadata": {
    "papermill": {
     "duration": 0.030664,
     "end_time": "2021-11-15T06:39:22.467693",
     "exception": false,
     "start_time": "2021-11-15T06:39:22.437029",
     "status": "completed"
    },
    "tags": []
   },
   "source": [
    "# Count by platform"
   ]
  },
  {
   "cell_type": "code",
   "execution_count": 14,
   "id": "f3b671e1",
   "metadata": {
    "execution": {
     "iopub.execute_input": "2021-11-15T06:39:22.533173Z",
     "iopub.status.busy": "2021-11-15T06:39:22.532182Z",
     "iopub.status.idle": "2021-11-15T06:39:23.212667Z",
     "shell.execute_reply": "2021-11-15T06:39:23.211446Z",
     "shell.execute_reply.started": "2021-11-15T06:36:12.652973Z"
    },
    "papermill": {
     "duration": 0.714437,
     "end_time": "2021-11-15T06:39:23.212828",
     "exception": false,
     "start_time": "2021-11-15T06:39:22.498391",
     "status": "completed"
    },
    "tags": []
   },
   "outputs": [
    {
     "data": {
      "image/png": "[encoded data removed]",
      "text/plain": [
       "<Figure size 1296x432 with 1 Axes>"
      ]
     },
     "metadata": {
      "needs_background": "light"
     },
     "output_type": "display_data"
    }
   ],
   "source": [
    "sns.catplot(x=\"Count\", y=\"Platform\", kind=\"bar\", data=count_platform, height=6, aspect=3)\n",
    "plt.title('Number of Games by Platform',fontsize=16)\n",
    "\n",
    "plt.grid(True)"
   ]
  },
  {
   "cell_type": "markdown",
   "id": "0d04f38d",
   "metadata": {
    "papermill": {
     "duration": 0.03182,
     "end_time": "2021-11-15T06:39:23.277539",
     "exception": false,
     "start_time": "2021-11-15T06:39:23.245719",
     "status": "completed"
    },
    "tags": []
   },
   "source": [
    "# Top 10 Games by User Review"
   ]
  },
  {
   "cell_type": "code",
   "execution_count": 15,
   "id": "01eb4436",
   "metadata": {
    "execution": {
     "iopub.execute_input": "2021-11-15T06:39:23.354535Z",
     "iopub.status.busy": "2021-11-15T06:39:23.353476Z",
     "iopub.status.idle": "2021-11-15T06:39:23.357197Z",
     "shell.execute_reply": "2021-11-15T06:39:23.357716Z",
     "shell.execute_reply.started": "2021-11-15T06:36:13.183802Z"
    },
    "papermill": {
     "duration": 0.047947,
     "end_time": "2021-11-15T06:39:23.357921",
     "exception": false,
     "start_time": "2021-11-15T06:39:23.309974",
     "status": "completed"
    },
    "tags": []
   },
   "outputs": [],
   "source": [
    "df['user_review'] = df['user_review'].astype(np.float)"
   ]
  },
  {
   "cell_type": "code",
   "execution_count": 16,
   "id": "ae19e6a4",
   "metadata": {
    "execution": {
     "iopub.execute_input": "2021-11-15T06:39:23.429365Z",
     "iopub.status.busy": "2021-11-15T06:39:23.428647Z",
     "iopub.status.idle": "2021-11-15T06:39:23.443776Z",
     "shell.execute_reply": "2021-11-15T06:39:23.444370Z",
     "shell.execute_reply.started": "2021-11-15T06:36:13.199376Z"
    },
    "papermill": {
     "duration": 0.051225,
     "end_time": "2021-11-15T06:39:23.444541",
     "exception": false,
     "start_time": "2021-11-15T06:39:23.393316",
     "status": "completed"
    },
    "tags": []
   },
   "outputs": [
    {
     "data": {
      "text/html": [
       "<div>\n",
       "<style scoped>\n",
       "    .dataframe tbody tr th:only-of-type {\n",
       "        vertical-align: middle;\n",
       "    }\n",
       "\n",
       "    .dataframe tbody tr th {\n",
       "        vertical-align: top;\n",
       "    }\n",
       "\n",
       "    .dataframe thead th {\n",
       "        text-align: right;\n",
       "    }\n",
       "</style>\n",
       "<table border=\"1\" class=\"dataframe\">\n",
       "  <thead>\n",
       "    <tr style=\"text-align: right;\">\n",
       "      <th></th>\n",
       "      <th>name</th>\n",
       "      <th>user_review</th>\n",
       "    </tr>\n",
       "  </thead>\n",
       "  <tbody>\n",
       "    <tr>\n",
       "      <th>3504</th>\n",
       "      <td>Z.H.P. Unlosing Ranger vs Darkdeath Evilman</td>\n",
       "      <td>9.7</td>\n",
       "    </tr>\n",
       "    <tr>\n",
       "      <th>2450</th>\n",
       "      <td>Ghost Trick: Phantom Detective</td>\n",
       "      <td>9.7</td>\n",
       "    </tr>\n",
       "    <tr>\n",
       "      <th>4953</th>\n",
       "      <td>Rochard</td>\n",
       "      <td>9.7</td>\n",
       "    </tr>\n",
       "    <tr>\n",
       "      <th>14836</th>\n",
       "      <td>Metal Torrent</td>\n",
       "      <td>9.7</td>\n",
       "    </tr>\n",
       "    <tr>\n",
       "      <th>9550</th>\n",
       "      <td>After Burner Climax</td>\n",
       "      <td>9.7</td>\n",
       "    </tr>\n",
       "    <tr>\n",
       "      <th>4844</th>\n",
       "      <td>GrimGrimoire</td>\n",
       "      <td>9.7</td>\n",
       "    </tr>\n",
       "    <tr>\n",
       "      <th>10936</th>\n",
       "      <td>Tengami</td>\n",
       "      <td>9.7</td>\n",
       "    </tr>\n",
       "    <tr>\n",
       "      <th>12434</th>\n",
       "      <td>Crystar</td>\n",
       "      <td>9.6</td>\n",
       "    </tr>\n",
       "    <tr>\n",
       "      <th>4573</th>\n",
       "      <td>Superliminal</td>\n",
       "      <td>9.6</td>\n",
       "    </tr>\n",
       "    <tr>\n",
       "      <th>7638</th>\n",
       "      <td>Superliminal</td>\n",
       "      <td>9.6</td>\n",
       "    </tr>\n",
       "  </tbody>\n",
       "</table>\n",
       "</div>"
      ],
      "text/plain": [
       "                                              name  user_review\n",
       "3504   Z.H.P. Unlosing Ranger vs Darkdeath Evilman          9.7\n",
       "2450                Ghost Trick: Phantom Detective          9.7\n",
       "4953                                       Rochard          9.7\n",
       "14836                                Metal Torrent          9.7\n",
       "9550                           After Burner Climax          9.7\n",
       "4844                                  GrimGrimoire          9.7\n",
       "10936                                      Tengami          9.7\n",
       "12434                                      Crystar          9.6\n",
       "4573                                  Superliminal          9.6\n",
       "7638                                  Superliminal          9.6"
      ]
     },
     "execution_count": 16,
     "metadata": {},
     "output_type": "execute_result"
    }
   ],
   "source": [
    "top_user_score = df.sort_values(['user_review'], ascending=False)[:10]\n",
    "top_user_score[['name','user_review']]"
   ]
  },
  {
   "cell_type": "code",
   "execution_count": 17,
   "id": "0767558d",
   "metadata": {
    "execution": {
     "iopub.execute_input": "2021-11-15T06:39:23.516293Z",
     "iopub.status.busy": "2021-11-15T06:39:23.515617Z",
     "iopub.status.idle": "2021-11-15T06:39:23.840768Z",
     "shell.execute_reply": "2021-11-15T06:39:23.840131Z",
     "shell.execute_reply.started": "2021-11-15T06:36:13.225391Z"
    },
    "papermill": {
     "duration": 0.362001,
     "end_time": "2021-11-15T06:39:23.840937",
     "exception": false,
     "start_time": "2021-11-15T06:39:23.478936",
     "status": "completed"
    },
    "tags": []
   },
   "outputs": [
    {
     "data": {
      "text/plain": [
       "Text(0, 0.5, 'Name')"
      ]
     },
     "execution_count": 17,
     "metadata": {},
     "output_type": "execute_result"
    },
    {
     "data": {
      "image/png": "[encoded data removed]",
      "text/plain": [
       "<Figure size 720x360 with 1 Axes>"
      ]
     },
     "metadata": {
      "needs_background": "light"
     },
     "output_type": "display_data"
    }
   ],
   "source": [
    "fig, ax = plt.subplots(figsize = (10,5))\n",
    "sns.barplot(x = top_user_score['user_review'], y = top_user_score['name'])\n",
    "plt.xlim(9.3,9.8)\n",
    "plt.title('Top 10 Games by User Review ', fontsize = 16)\n",
    "plt.xlabel('User Review Score', fontsize = 14)\n",
    "plt.ylabel('Name', fontsize = 14)"
   ]
  },
  {
   "cell_type": "markdown",
   "id": "d1826a5a",
   "metadata": {
    "papermill": {
     "duration": 0.033635,
     "end_time": "2021-11-15T06:39:23.908677",
     "exception": false,
     "start_time": "2021-11-15T06:39:23.875042",
     "status": "completed"
    },
    "tags": []
   },
   "source": [
    "# Top 10 Games by Meta Score"
   ]
  },
  {
   "cell_type": "code",
   "execution_count": 18,
   "id": "716b77e7",
   "metadata": {
    "execution": {
     "iopub.execute_input": "2021-11-15T06:39:23.984493Z",
     "iopub.status.busy": "2021-11-15T06:39:23.983728Z",
     "iopub.status.idle": "2021-11-15T06:39:23.993860Z",
     "shell.execute_reply": "2021-11-15T06:39:23.994377Z",
     "shell.execute_reply.started": "2021-11-15T06:36:13.524705Z"
    },
    "papermill": {
     "duration": 0.051168,
     "end_time": "2021-11-15T06:39:23.994560",
     "exception": false,
     "start_time": "2021-11-15T06:39:23.943392",
     "status": "completed"
    },
    "tags": []
   },
   "outputs": [
    {
     "data": {
      "text/html": [
       "<div>\n",
       "<style scoped>\n",
       "    .dataframe tbody tr th:only-of-type {\n",
       "        vertical-align: middle;\n",
       "    }\n",
       "\n",
       "    .dataframe tbody tr th {\n",
       "        vertical-align: top;\n",
       "    }\n",
       "\n",
       "    .dataframe thead th {\n",
       "        text-align: right;\n",
       "    }\n",
       "</style>\n",
       "<table border=\"1\" class=\"dataframe\">\n",
       "  <thead>\n",
       "    <tr style=\"text-align: right;\">\n",
       "      <th></th>\n",
       "      <th>name</th>\n",
       "      <th>meta_score</th>\n",
       "    </tr>\n",
       "  </thead>\n",
       "  <tbody>\n",
       "    <tr>\n",
       "      <th>0</th>\n",
       "      <td>The Legend of Zelda: Ocarina of Time</td>\n",
       "      <td>99</td>\n",
       "    </tr>\n",
       "    <tr>\n",
       "      <th>2</th>\n",
       "      <td>Grand Theft Auto IV</td>\n",
       "      <td>98</td>\n",
       "    </tr>\n",
       "    <tr>\n",
       "      <th>3</th>\n",
       "      <td>SoulCalibur</td>\n",
       "      <td>98</td>\n",
       "    </tr>\n",
       "    <tr>\n",
       "      <th>4</th>\n",
       "      <td>Grand Theft Auto IV</td>\n",
       "      <td>98</td>\n",
       "    </tr>\n",
       "    <tr>\n",
       "      <th>1</th>\n",
       "      <td>Tony Hawk's Pro Skater 2</td>\n",
       "      <td>98</td>\n",
       "    </tr>\n",
       "    <tr>\n",
       "      <th>14</th>\n",
       "      <td>Tony Hawk's Pro Skater 3</td>\n",
       "      <td>97</td>\n",
       "    </tr>\n",
       "    <tr>\n",
       "      <th>23</th>\n",
       "      <td>NFL 2K1</td>\n",
       "      <td>97</td>\n",
       "    </tr>\n",
       "    <tr>\n",
       "      <th>22</th>\n",
       "      <td>The House in Fata Morgana - Dreams of the Reve...</td>\n",
       "      <td>97</td>\n",
       "    </tr>\n",
       "    <tr>\n",
       "      <th>21</th>\n",
       "      <td>Halo: Combat Evolved</td>\n",
       "      <td>97</td>\n",
       "    </tr>\n",
       "    <tr>\n",
       "      <th>20</th>\n",
       "      <td>Super Mario Odyssey</td>\n",
       "      <td>97</td>\n",
       "    </tr>\n",
       "  </tbody>\n",
       "</table>\n",
       "</div>"
      ],
      "text/plain": [
       "                                                 name  meta_score\n",
       "0                The Legend of Zelda: Ocarina of Time          99\n",
       "2                                 Grand Theft Auto IV          98\n",
       "3                                         SoulCalibur          98\n",
       "4                                 Grand Theft Auto IV          98\n",
       "1                            Tony Hawk's Pro Skater 2          98\n",
       "14                           Tony Hawk's Pro Skater 3          97\n",
       "23                                            NFL 2K1          97\n",
       "22  The House in Fata Morgana - Dreams of the Reve...          97\n",
       "21                               Halo: Combat Evolved          97\n",
       "20                                Super Mario Odyssey          97"
      ]
     },
     "execution_count": 18,
     "metadata": {},
     "output_type": "execute_result"
    }
   ],
   "source": [
    "top_meta_score = df.sort_values(['meta_score'], ascending = False)[:10]\n",
    "top_meta_score[['name','meta_score']]"
   ]
  },
  {
   "cell_type": "code",
   "execution_count": 19,
   "id": "2d77b928",
   "metadata": {
    "execution": {
     "iopub.execute_input": "2021-11-15T06:39:24.066617Z",
     "iopub.status.busy": "2021-11-15T06:39:24.065981Z",
     "iopub.status.idle": "2021-11-15T06:39:24.393197Z",
     "shell.execute_reply": "2021-11-15T06:39:24.392555Z",
     "shell.execute_reply.started": "2021-11-15T06:36:13.549597Z"
    },
    "papermill": {
     "duration": 0.364654,
     "end_time": "2021-11-15T06:39:24.393340",
     "exception": false,
     "start_time": "2021-11-15T06:39:24.028686",
     "status": "completed"
    },
    "tags": []
   },
   "outputs": [
    {
     "data": {
      "text/plain": [
       "Text(0, 0.5, 'Name')"
      ]
     },
     "execution_count": 19,
     "metadata": {},
     "output_type": "execute_result"
    },
    {
     "data": {
      "image/png": "[encoded data removed]",
      "text/plain": [
       "<Figure size 720x360 with 1 Axes>"
      ]
     },
     "metadata": {
      "needs_background": "light"
     },
     "output_type": "display_data"
    }
   ],
   "source": [
    "fig, ax = plt.subplots(figsize=(10,5))\n",
    "sns.barplot(x=top_meta_score['meta_score'], y=top_meta_score['name'], orient = 'h', palette='flare')\n",
    "plt.xlim(95,100)\n",
    "plt.title('Top 10 Games by Meta Score', fontsize=16)\n",
    "plt.xlabel('Meta Score', fontsize=14)\n",
    "plt.ylabel('Name', fontsize=14)"
   ]
  },
  {
   "cell_type": "markdown",
   "id": "901538bf",
   "metadata": {
    "papermill": {
     "duration": 0.035336,
     "end_time": "2021-11-15T06:39:24.464470",
     "exception": false,
     "start_time": "2021-11-15T06:39:24.429134",
     "status": "completed"
    },
    "tags": []
   },
   "source": [
    "#  Era that had the best video games"
   ]
  },
  {
   "cell_type": "code",
   "execution_count": 20,
   "id": "c68477fd",
   "metadata": {
    "execution": {
     "iopub.execute_input": "2021-11-15T06:39:24.554648Z",
     "iopub.status.busy": "2021-11-15T06:39:24.539082Z",
     "iopub.status.idle": "2021-11-15T06:39:26.432975Z",
     "shell.execute_reply": "2021-11-15T06:39:26.432397Z",
     "shell.execute_reply.started": "2021-11-15T06:36:13.932084Z"
    },
    "papermill": {
     "duration": 1.933308,
     "end_time": "2021-11-15T06:39:26.433130",
     "exception": false,
     "start_time": "2021-11-15T06:39:24.499822",
     "status": "completed"
    },
    "tags": []
   },
   "outputs": [],
   "source": [
    "era = df\n",
    "era['release_date'] = pd.to_datetime(era['release_date'])"
   ]
  },
  {
   "cell_type": "code",
   "execution_count": 21,
   "id": "0fe34af0",
   "metadata": {
    "execution": {
     "iopub.execute_input": "2021-11-15T06:39:26.509578Z",
     "iopub.status.busy": "2021-11-15T06:39:26.507414Z",
     "iopub.status.idle": "2021-11-15T06:39:26.515027Z",
     "shell.execute_reply": "2021-11-15T06:39:26.515498Z",
     "shell.execute_reply.started": "2021-11-15T06:36:15.819705Z"
    },
    "papermill": {
     "duration": 0.046902,
     "end_time": "2021-11-15T06:39:26.515668",
     "exception": false,
     "start_time": "2021-11-15T06:39:26.468766",
     "status": "completed"
    },
    "tags": []
   },
   "outputs": [],
   "source": [
    "era['year'] = df['release_date'].dt.year"
   ]
  },
  {
   "cell_type": "code",
   "execution_count": 22,
   "id": "88992eb9",
   "metadata": {
    "execution": {
     "iopub.execute_input": "2021-11-15T06:39:26.592649Z",
     "iopub.status.busy": "2021-11-15T06:39:26.591997Z",
     "iopub.status.idle": "2021-11-15T06:39:26.593234Z",
     "shell.execute_reply": "2021-11-15T06:39:26.593796Z",
     "shell.execute_reply.started": "2021-11-15T06:36:15.828633Z"
    },
    "papermill": {
     "duration": 0.042147,
     "end_time": "2021-11-15T06:39:26.593981",
     "exception": false,
     "start_time": "2021-11-15T06:39:26.551834",
     "status": "completed"
    },
    "tags": []
   },
   "outputs": [],
   "source": [
    "era1 =era.groupby('year')"
   ]
  },
  {
   "cell_type": "code",
   "execution_count": 23,
   "id": "0a5eba28",
   "metadata": {
    "execution": {
     "iopub.execute_input": "2021-11-15T06:39:26.670336Z",
     "iopub.status.busy": "2021-11-15T06:39:26.669661Z",
     "iopub.status.idle": "2021-11-15T06:39:26.683712Z",
     "shell.execute_reply": "2021-11-15T06:39:26.684361Z",
     "shell.execute_reply.started": "2021-11-15T06:36:15.840301Z"
    },
    "papermill": {
     "duration": 0.053984,
     "end_time": "2021-11-15T06:39:26.684532",
     "exception": false,
     "start_time": "2021-11-15T06:39:26.630548",
     "status": "completed"
    },
    "tags": []
   },
   "outputs": [
    {
     "data": {
      "text/html": [
       "<div>\n",
       "<style scoped>\n",
       "    .dataframe tbody tr th:only-of-type {\n",
       "        vertical-align: middle;\n",
       "    }\n",
       "\n",
       "    .dataframe tbody tr th {\n",
       "        vertical-align: top;\n",
       "    }\n",
       "\n",
       "    .dataframe thead th {\n",
       "        text-align: right;\n",
       "    }\n",
       "</style>\n",
       "<table border=\"1\" class=\"dataframe\">\n",
       "  <thead>\n",
       "    <tr style=\"text-align: right;\">\n",
       "      <th></th>\n",
       "      <th>year</th>\n",
       "      <th>meta_score</th>\n",
       "    </tr>\n",
       "  </thead>\n",
       "  <tbody>\n",
       "    <tr>\n",
       "      <th>0</th>\n",
       "      <td>1998</td>\n",
       "      <td>99</td>\n",
       "    </tr>\n",
       "    <tr>\n",
       "      <th>2</th>\n",
       "      <td>2008</td>\n",
       "      <td>98</td>\n",
       "    </tr>\n",
       "    <tr>\n",
       "      <th>3</th>\n",
       "      <td>1999</td>\n",
       "      <td>98</td>\n",
       "    </tr>\n",
       "    <tr>\n",
       "      <th>4</th>\n",
       "      <td>2008</td>\n",
       "      <td>98</td>\n",
       "    </tr>\n",
       "    <tr>\n",
       "      <th>1</th>\n",
       "      <td>2000</td>\n",
       "      <td>98</td>\n",
       "    </tr>\n",
       "    <tr>\n",
       "      <th>...</th>\n",
       "      <td>...</td>\n",
       "      <td>...</td>\n",
       "    </tr>\n",
       "    <tr>\n",
       "      <th>18795</th>\n",
       "      <td>2013</td>\n",
       "      <td>22</td>\n",
       "    </tr>\n",
       "    <tr>\n",
       "      <th>18796</th>\n",
       "      <td>2003</td>\n",
       "      <td>22</td>\n",
       "    </tr>\n",
       "    <tr>\n",
       "      <th>18797</th>\n",
       "      <td>2015</td>\n",
       "      <td>21</td>\n",
       "    </tr>\n",
       "    <tr>\n",
       "      <th>18798</th>\n",
       "      <td>2012</td>\n",
       "      <td>20</td>\n",
       "    </tr>\n",
       "    <tr>\n",
       "      <th>18799</th>\n",
       "      <td>2009</td>\n",
       "      <td>20</td>\n",
       "    </tr>\n",
       "  </tbody>\n",
       "</table>\n",
       "<p>17435 rows × 2 columns</p>\n",
       "</div>"
      ],
      "text/plain": [
       "       year  meta_score\n",
       "0      1998          99\n",
       "2      2008          98\n",
       "3      1999          98\n",
       "4      2008          98\n",
       "1      2000          98\n",
       "...     ...         ...\n",
       "18795  2013          22\n",
       "18796  2003          22\n",
       "18797  2015          21\n",
       "18798  2012          20\n",
       "18799  2009          20\n",
       "\n",
       "[17435 rows x 2 columns]"
      ]
     },
     "execution_count": 23,
     "metadata": {},
     "output_type": "execute_result"
    }
   ],
   "source": [
    "era2 = df.sort_values(['meta_score'], ascending = False)\n",
    "era2[['year','meta_score']]"
   ]
  },
  {
   "cell_type": "code",
   "execution_count": 24,
   "id": "b2b2ee1d",
   "metadata": {
    "execution": {
     "iopub.execute_input": "2021-11-15T06:39:26.817565Z",
     "iopub.status.busy": "2021-11-15T06:39:26.816922Z",
     "iopub.status.idle": "2021-11-15T06:39:26.820498Z",
     "shell.execute_reply": "2021-11-15T06:39:26.821078Z",
     "shell.execute_reply.started": "2021-11-15T06:36:15.866168Z"
    },
    "papermill": {
     "duration": 0.043355,
     "end_time": "2021-11-15T06:39:26.821238",
     "exception": false,
     "start_time": "2021-11-15T06:39:26.777883",
     "status": "completed"
    },
    "tags": []
   },
   "outputs": [],
   "source": [
    "era2 =era.groupby('year')"
   ]
  },
  {
   "cell_type": "code",
   "execution_count": 25,
   "id": "26e0f2fd",
   "metadata": {
    "execution": {
     "iopub.execute_input": "2021-11-15T06:39:26.897376Z",
     "iopub.status.busy": "2021-11-15T06:39:26.896751Z",
     "iopub.status.idle": "2021-11-15T06:39:26.915595Z",
     "shell.execute_reply": "2021-11-15T06:39:26.916155Z",
     "shell.execute_reply.started": "2021-11-15T06:36:15.872857Z"
    },
    "papermill": {
     "duration": 0.05866,
     "end_time": "2021-11-15T06:39:26.916341",
     "exception": false,
     "start_time": "2021-11-15T06:39:26.857681",
     "status": "completed"
    },
    "tags": []
   },
   "outputs": [
    {
     "data": {
      "text/html": [
       "<div>\n",
       "<style scoped>\n",
       "    .dataframe tbody tr th:only-of-type {\n",
       "        vertical-align: middle;\n",
       "    }\n",
       "\n",
       "    .dataframe tbody tr th {\n",
       "        vertical-align: top;\n",
       "    }\n",
       "\n",
       "    .dataframe thead th {\n",
       "        text-align: right;\n",
       "    }\n",
       "</style>\n",
       "<table border=\"1\" class=\"dataframe\">\n",
       "  <thead>\n",
       "    <tr style=\"text-align: right;\">\n",
       "      <th></th>\n",
       "      <th>name</th>\n",
       "      <th>platform</th>\n",
       "      <th>release_date</th>\n",
       "      <th>summary</th>\n",
       "      <th>meta_score</th>\n",
       "      <th>user_review</th>\n",
       "      <th>year</th>\n",
       "    </tr>\n",
       "  </thead>\n",
       "  <tbody>\n",
       "    <tr>\n",
       "      <th>0</th>\n",
       "      <td>The Legend of Zelda: Ocarina of Time</td>\n",
       "      <td>Nintendo 64</td>\n",
       "      <td>1998-11-23</td>\n",
       "      <td>As a young boy, Link is tricked by Ganondorf, ...</td>\n",
       "      <td>99</td>\n",
       "      <td>9.1</td>\n",
       "      <td>1998</td>\n",
       "    </tr>\n",
       "    <tr>\n",
       "      <th>1</th>\n",
       "      <td>Tony Hawk's Pro Skater 2</td>\n",
       "      <td>PlayStation</td>\n",
       "      <td>2000-09-20</td>\n",
       "      <td>As most major publishers' development efforts ...</td>\n",
       "      <td>98</td>\n",
       "      <td>7.4</td>\n",
       "      <td>2000</td>\n",
       "    </tr>\n",
       "    <tr>\n",
       "      <th>2</th>\n",
       "      <td>Grand Theft Auto IV</td>\n",
       "      <td>PlayStation 3</td>\n",
       "      <td>2008-04-29</td>\n",
       "      <td>[Metacritic's 2008 PS3 Game of the Year; Also ...</td>\n",
       "      <td>98</td>\n",
       "      <td>7.7</td>\n",
       "      <td>2008</td>\n",
       "    </tr>\n",
       "    <tr>\n",
       "      <th>3</th>\n",
       "      <td>SoulCalibur</td>\n",
       "      <td>Dreamcast</td>\n",
       "      <td>1999-09-08</td>\n",
       "      <td>This is a tale of souls and swords, transcendi...</td>\n",
       "      <td>98</td>\n",
       "      <td>8.4</td>\n",
       "      <td>1999</td>\n",
       "    </tr>\n",
       "    <tr>\n",
       "      <th>4</th>\n",
       "      <td>Grand Theft Auto IV</td>\n",
       "      <td>Xbox 360</td>\n",
       "      <td>2008-04-29</td>\n",
       "      <td>[Metacritic's 2008 Xbox 360 Game of the Year; ...</td>\n",
       "      <td>98</td>\n",
       "      <td>7.9</td>\n",
       "      <td>2008</td>\n",
       "    </tr>\n",
       "    <tr>\n",
       "      <th>...</th>\n",
       "      <td>...</td>\n",
       "      <td>...</td>\n",
       "      <td>...</td>\n",
       "      <td>...</td>\n",
       "      <td>...</td>\n",
       "      <td>...</td>\n",
       "      <td>...</td>\n",
       "    </tr>\n",
       "    <tr>\n",
       "      <th>267</th>\n",
       "      <td>The Witcher 3: Wild Hunt - Blood and Wine</td>\n",
       "      <td>PC</td>\n",
       "      <td>2016-05-30</td>\n",
       "      <td>This expansion pack is an old-school add on wi...</td>\n",
       "      <td>92</td>\n",
       "      <td>9.3</td>\n",
       "      <td>2016</td>\n",
       "    </tr>\n",
       "    <tr>\n",
       "      <th>276</th>\n",
       "      <td>Dark Souls II</td>\n",
       "      <td>Xbox 360</td>\n",
       "      <td>2014-03-11</td>\n",
       "      <td>Prepare to die... Again. Dare yourself to enga...</td>\n",
       "      <td>91</td>\n",
       "      <td>7.9</td>\n",
       "      <td>2014</td>\n",
       "    </tr>\n",
       "    <tr>\n",
       "      <th>289</th>\n",
       "      <td>Overwatch</td>\n",
       "      <td>PC</td>\n",
       "      <td>2016-05-23</td>\n",
       "      <td>Overwatch is a highly stylized team-based shoo...</td>\n",
       "      <td>91</td>\n",
       "      <td>6.5</td>\n",
       "      <td>2016</td>\n",
       "    </tr>\n",
       "    <tr>\n",
       "      <th>308</th>\n",
       "      <td>Dragon Quest XI S: Echoes of an Elusive Age - ...</td>\n",
       "      <td>Switch</td>\n",
       "      <td>2019-09-27</td>\n",
       "      <td>Dragon Quest XI: Echoes of an Elusive Age tell...</td>\n",
       "      <td>91</td>\n",
       "      <td>8.9</td>\n",
       "      <td>2019</td>\n",
       "    </tr>\n",
       "    <tr>\n",
       "      <th>1437</th>\n",
       "      <td>Full Throttle</td>\n",
       "      <td>PC</td>\n",
       "      <td>1995-04-30</td>\n",
       "      <td>You're Ben--beaten, framed for murder and left...</td>\n",
       "      <td>86</td>\n",
       "      <td>8.6</td>\n",
       "      <td>1995</td>\n",
       "    </tr>\n",
       "  </tbody>\n",
       "</table>\n",
       "<p>131 rows × 7 columns</p>\n",
       "</div>"
      ],
      "text/plain": [
       "                                                   name        platform  \\\n",
       "0                  The Legend of Zelda: Ocarina of Time     Nintendo 64   \n",
       "1                              Tony Hawk's Pro Skater 2     PlayStation   \n",
       "2                                   Grand Theft Auto IV   PlayStation 3   \n",
       "3                                           SoulCalibur       Dreamcast   \n",
       "4                                   Grand Theft Auto IV        Xbox 360   \n",
       "...                                                 ...             ...   \n",
       "267           The Witcher 3: Wild Hunt - Blood and Wine              PC   \n",
       "276                                       Dark Souls II        Xbox 360   \n",
       "289                                           Overwatch              PC   \n",
       "308   Dragon Quest XI S: Echoes of an Elusive Age - ...          Switch   \n",
       "1437                                      Full Throttle              PC   \n",
       "\n",
       "     release_date                                            summary  \\\n",
       "0      1998-11-23  As a young boy, Link is tricked by Ganondorf, ...   \n",
       "1      2000-09-20  As most major publishers' development efforts ...   \n",
       "2      2008-04-29  [Metacritic's 2008 PS3 Game of the Year; Also ...   \n",
       "3      1999-09-08  This is a tale of souls and swords, transcendi...   \n",
       "4      2008-04-29  [Metacritic's 2008 Xbox 360 Game of the Year; ...   \n",
       "...           ...                                                ...   \n",
       "267    2016-05-30  This expansion pack is an old-school add on wi...   \n",
       "276    2014-03-11  Prepare to die... Again. Dare yourself to enga...   \n",
       "289    2016-05-23  Overwatch is a highly stylized team-based shoo...   \n",
       "308    2019-09-27  Dragon Quest XI: Echoes of an Elusive Age tell...   \n",
       "1437   1995-04-30  You're Ben--beaten, framed for murder and left...   \n",
       "\n",
       "      meta_score  user_review  year  \n",
       "0             99          9.1  1998  \n",
       "1             98          7.4  2000  \n",
       "2             98          7.7  2008  \n",
       "3             98          8.4  1999  \n",
       "4             98          7.9  2008  \n",
       "...          ...          ...   ...  \n",
       "267           92          9.3  2016  \n",
       "276           91          7.9  2014  \n",
       "289           91          6.5  2016  \n",
       "308           91          8.9  2019  \n",
       "1437          86          8.6  1995  \n",
       "\n",
       "[131 rows x 7 columns]"
      ]
     },
     "execution_count": 25,
     "metadata": {},
     "output_type": "execute_result"
    }
   ],
   "source": [
    "era2.head()"
   ]
  },
  {
   "cell_type": "code",
   "execution_count": 26,
   "id": "0b41d3e0",
   "metadata": {
    "execution": {
     "iopub.execute_input": "2021-11-15T06:39:26.996132Z",
     "iopub.status.busy": "2021-11-15T06:39:26.995437Z",
     "iopub.status.idle": "2021-11-15T06:39:27.009761Z",
     "shell.execute_reply": "2021-11-15T06:39:27.009267Z",
     "shell.execute_reply.started": "2021-11-15T06:36:15.904941Z"
    },
    "papermill": {
     "duration": 0.055474,
     "end_time": "2021-11-15T06:39:27.009943",
     "exception": false,
     "start_time": "2021-11-15T06:39:26.954469",
     "status": "completed"
    },
    "tags": []
   },
   "outputs": [
    {
     "data": {
      "text/html": [
       "<div>\n",
       "<style scoped>\n",
       "    .dataframe tbody tr th:only-of-type {\n",
       "        vertical-align: middle;\n",
       "    }\n",
       "\n",
       "    .dataframe tbody tr th {\n",
       "        vertical-align: top;\n",
       "    }\n",
       "\n",
       "    .dataframe thead th {\n",
       "        text-align: right;\n",
       "    }\n",
       "</style>\n",
       "<table border=\"1\" class=\"dataframe\">\n",
       "  <thead>\n",
       "    <tr style=\"text-align: right;\">\n",
       "      <th></th>\n",
       "      <th>year</th>\n",
       "      <th>meta_score</th>\n",
       "    </tr>\n",
       "  </thead>\n",
       "  <tbody>\n",
       "    <tr>\n",
       "      <th>0</th>\n",
       "      <td>2018</td>\n",
       "      <td>78960</td>\n",
       "    </tr>\n",
       "    <tr>\n",
       "      <th>1</th>\n",
       "      <td>2017</td>\n",
       "      <td>72380</td>\n",
       "    </tr>\n",
       "    <tr>\n",
       "      <th>2</th>\n",
       "      <td>2019</td>\n",
       "      <td>71288</td>\n",
       "    </tr>\n",
       "    <tr>\n",
       "      <th>3</th>\n",
       "      <td>2020</td>\n",
       "      <td>69924</td>\n",
       "    </tr>\n",
       "    <tr>\n",
       "      <th>4</th>\n",
       "      <td>2016</td>\n",
       "      <td>67667</td>\n",
       "    </tr>\n",
       "    <tr>\n",
       "      <th>5</th>\n",
       "      <td>2015</td>\n",
       "      <td>60403</td>\n",
       "    </tr>\n",
       "    <tr>\n",
       "      <th>6</th>\n",
       "      <td>2009</td>\n",
       "      <td>60348</td>\n",
       "    </tr>\n",
       "    <tr>\n",
       "      <th>7</th>\n",
       "      <td>2008</td>\n",
       "      <td>57499</td>\n",
       "    </tr>\n",
       "    <tr>\n",
       "      <th>8</th>\n",
       "      <td>2011</td>\n",
       "      <td>57460</td>\n",
       "    </tr>\n",
       "    <tr>\n",
       "      <th>9</th>\n",
       "      <td>2007</td>\n",
       "      <td>57244</td>\n",
       "    </tr>\n",
       "    <tr>\n",
       "      <th>10</th>\n",
       "      <td>2005</td>\n",
       "      <td>56059</td>\n",
       "    </tr>\n",
       "    <tr>\n",
       "      <th>11</th>\n",
       "      <td>2010</td>\n",
       "      <td>55689</td>\n",
       "    </tr>\n",
       "    <tr>\n",
       "      <th>12</th>\n",
       "      <td>2012</td>\n",
       "      <td>55181</td>\n",
       "    </tr>\n",
       "    <tr>\n",
       "      <th>13</th>\n",
       "      <td>2006</td>\n",
       "      <td>54780</td>\n",
       "    </tr>\n",
       "    <tr>\n",
       "      <th>14</th>\n",
       "      <td>2014</td>\n",
       "      <td>54443</td>\n",
       "    </tr>\n",
       "    <tr>\n",
       "      <th>15</th>\n",
       "      <td>2013</td>\n",
       "      <td>53445</td>\n",
       "    </tr>\n",
       "    <tr>\n",
       "      <th>16</th>\n",
       "      <td>2003</td>\n",
       "      <td>51983</td>\n",
       "    </tr>\n",
       "    <tr>\n",
       "      <th>17</th>\n",
       "      <td>2002</td>\n",
       "      <td>47472</td>\n",
       "    </tr>\n",
       "    <tr>\n",
       "      <th>18</th>\n",
       "      <td>2004</td>\n",
       "      <td>47017</td>\n",
       "    </tr>\n",
       "    <tr>\n",
       "      <th>19</th>\n",
       "      <td>2021</td>\n",
       "      <td>42102</td>\n",
       "    </tr>\n",
       "    <tr>\n",
       "      <th>20</th>\n",
       "      <td>2001</td>\n",
       "      <td>35127</td>\n",
       "    </tr>\n",
       "    <tr>\n",
       "      <th>21</th>\n",
       "      <td>2000</td>\n",
       "      <td>22792</td>\n",
       "    </tr>\n",
       "    <tr>\n",
       "      <th>22</th>\n",
       "      <td>1999</td>\n",
       "      <td>4348</td>\n",
       "    </tr>\n",
       "    <tr>\n",
       "      <th>23</th>\n",
       "      <td>1998</td>\n",
       "      <td>3577</td>\n",
       "    </tr>\n",
       "    <tr>\n",
       "      <th>24</th>\n",
       "      <td>1997</td>\n",
       "      <td>2383</td>\n",
       "    </tr>\n",
       "    <tr>\n",
       "      <th>25</th>\n",
       "      <td>1996</td>\n",
       "      <td>1709</td>\n",
       "    </tr>\n",
       "    <tr>\n",
       "      <th>26</th>\n",
       "      <td>1995</td>\n",
       "      <td>86</td>\n",
       "    </tr>\n",
       "  </tbody>\n",
       "</table>\n",
       "</div>"
      ],
      "text/plain": [
       "    year  meta_score\n",
       "0   2018       78960\n",
       "1   2017       72380\n",
       "2   2019       71288\n",
       "3   2020       69924\n",
       "4   2016       67667\n",
       "5   2015       60403\n",
       "6   2009       60348\n",
       "7   2008       57499\n",
       "8   2011       57460\n",
       "9   2007       57244\n",
       "10  2005       56059\n",
       "11  2010       55689\n",
       "12  2012       55181\n",
       "13  2006       54780\n",
       "14  2014       54443\n",
       "15  2013       53445\n",
       "16  2003       51983\n",
       "17  2002       47472\n",
       "18  2004       47017\n",
       "19  2021       42102\n",
       "20  2001       35127\n",
       "21  2000       22792\n",
       "22  1999        4348\n",
       "23  1998        3577\n",
       "24  1997        2383\n",
       "25  1996        1709\n",
       "26  1995          86"
      ]
     },
     "execution_count": 26,
     "metadata": {},
     "output_type": "execute_result"
    }
   ],
   "source": [
    "era2['meta_score'].sum().sort_values(ascending = False).reset_index()"
   ]
  },
  {
   "cell_type": "code",
   "execution_count": 27,
   "id": "9eace22e",
   "metadata": {
    "execution": {
     "iopub.execute_input": "2021-11-15T06:39:27.089026Z",
     "iopub.status.busy": "2021-11-15T06:39:27.088277Z",
     "iopub.status.idle": "2021-11-15T06:39:27.094047Z",
     "shell.execute_reply": "2021-11-15T06:39:27.094558Z",
     "shell.execute_reply.started": "2021-11-15T06:36:15.919727Z"
    },
    "papermill": {
     "duration": 0.046875,
     "end_time": "2021-11-15T06:39:27.094720",
     "exception": false,
     "start_time": "2021-11-15T06:39:27.047845",
     "status": "completed"
    },
    "tags": []
   },
   "outputs": [],
   "source": [
    "era3 = era2['meta_score'].sum().sort_values(ascending = False).reset_index()\n",
    "era3.columns = [\"year\", \"Total\"] \n"
   ]
  },
  {
   "cell_type": "code",
   "execution_count": 28,
   "id": "e3bc1344",
   "metadata": {
    "execution": {
     "iopub.execute_input": "2021-11-15T06:39:27.173714Z",
     "iopub.status.busy": "2021-11-15T06:39:27.173072Z",
     "iopub.status.idle": "2021-11-15T06:39:27.808908Z",
     "shell.execute_reply": "2021-11-15T06:39:27.808276Z",
     "shell.execute_reply.started": "2021-11-15T06:36:15.930675Z"
    },
    "papermill": {
     "duration": 0.676539,
     "end_time": "2021-11-15T06:39:27.809067",
     "exception": false,
     "start_time": "2021-11-15T06:39:27.132528",
     "status": "completed"
    },
    "tags": []
   },
   "outputs": [
    {
     "data": {
      "image/png": "[encoded data removed]",
      "text/plain": [
       "<Figure size 1296x432 with 1 Axes>"
      ]
     },
     "metadata": {
      "needs_background": "light"
     },
     "output_type": "display_data"
    }
   ],
   "source": [
    "sns.catplot(x=\"year\", y=\"Total\", kind=\"bar\", data=era3, height=6, aspect=3)\n",
    "plt.title(\"Year that had the best video games ( Popularity ) \")\n",
    "plt.xlabel('Year')\n",
    "plt.ylabel(\"Popularity of Video Games \")\n",
    "plt.grid(True)"
   ]
  },
  {
   "cell_type": "markdown",
   "id": "a7c0a975",
   "metadata": {
    "papermill": {
     "duration": 0.039469,
     "end_time": "2021-11-15T06:39:27.888566",
     "exception": false,
     "start_time": "2021-11-15T06:39:27.849097",
     "status": "completed"
    },
    "tags": []
   },
   "source": [
    "# Thank You !!\n",
    "  Please  UPVOTE  if Like my work !!  "
   ]
  }
 ],
 "metadata": {
  "kernelspec": {
   "display_name": "Python 3",
   "language": "python",
   "name": "python3"
  },
  "language_info": {
   "codemirror_mode": {
    "name": "ipython",
    "version": 3
   },
   "file_extension": ".py",
   "mimetype": "text/x-python",
   "name": "python",
   "nbconvert_exporter": "python",
   "pygments_lexer": "ipython3",
   "version": "3.7.10"
  },
  "papermill": {
   "default_parameters": {},
   "duration": 17.8871,
   "end_time": "2021-11-15T06:39:28.539463",
   "environment_variables": {},
   "exception": null,
   "input_path": "__notebook__.ipynb",
   "output_path": "__notebook__.ipynb",
   "parameters": {},
   "start_time": "2021-11-15T06:39:10.652363",
   "version": "2.3.3"
  }
 },
 "nbformat": 4,
 "nbformat_minor": 5
}
